{
 "cells": [
  {
   "cell_type": "markdown",
   "metadata": {},
   "source": [
    "### Global "
   ]
  },
  {
   "cell_type": "code",
   "execution_count": null,
   "metadata": {},
   "outputs": [],
   "source": [
    "def foo():\n",
    "    print(\"inside foo\", b)\n",
    "\n",
    "\n",
    "b = 9\n",
    "foo()\n",
    "print(\"main\", b)"
   ]
  },
  {
   "cell_type": "code",
   "execution_count": null,
   "metadata": {},
   "outputs": [],
   "source": [
    "b = 9\n",
    "\n",
    "\n",
    "def foo():\n",
    "    print(\"inside foo\", b)\n",
    "\n",
    "\n",
    "foo()\n",
    "print(\"main\", b)"
   ]
  },
  {
   "cell_type": "markdown",
   "metadata": {},
   "source": [
    "###  Local"
   ]
  },
  {
   "cell_type": "code",
   "execution_count": null,
   "metadata": {},
   "outputs": [],
   "source": [
    "def bar():\n",
    "    y = 7\n",
    "    print(\"inside bar\", y)\n",
    "\n",
    "\n",
    "bar()\n",
    "print(\"main\", y) # expect error"
   ]
  },
  {
   "cell_type": "markdown",
   "metadata": {},
   "source": [
    "### Pay attention!"
   ]
  },
  {
   "cell_type": "code",
   "execution_count": null,
   "metadata": {},
   "outputs": [],
   "source": [
    "# python, when encounter a function, it reads all the body of the function\n",
    "# and then it decides which variables are local and each variables are global\n",
    "b = 9\n",
    "\n",
    "\n",
    "def magic():\n",
    "    y = 7\n",
    "    print(\"inside magic\", y, b)\n",
    "    b = 6\n",
    "\n",
    "\n",
    "print(\"main\", b)\n",
    "magic()"
   ]
  },
  {
   "cell_type": "code",
   "execution_count": null,
   "metadata": {},
   "outputs": [],
   "source": [
    "b = 9\n",
    "\n",
    "\n",
    "def magic_local():\n",
    "    y = 7\n",
    "    b = 6\n",
    "    print(\"inside magic_local\", y, b)\n",
    "\n",
    "\n",
    "magic_local()\n",
    "print(\"main\", b)"
   ]
  },
  {
   "cell_type": "markdown",
   "metadata": {},
   "source": [
    "### `global` keyword"
   ]
  },
  {
   "cell_type": "code",
   "execution_count": null,
   "metadata": {},
   "outputs": [],
   "source": [
    "b = 9\n",
    "\n",
    "\n",
    "def magic_global():\n",
    "    global b  # <----\n",
    "    y = 7\n",
    "    print(\"inside magic_global\", y, b)\n",
    "    b = 6\n",
    "\n",
    "\n",
    "magic_global()\n",
    "print(\"main\", b)"
   ]
  },
  {
   "cell_type": "markdown",
   "metadata": {},
   "source": [
    "### Pay attention with mutables..."
   ]
  },
  {
   "cell_type": "code",
   "execution_count": 1,
   "metadata": {},
   "outputs": [
    {
     "name": "stdout",
     "output_type": "stream",
     "text": [
      "inside foo [1, 2, 3]\n",
      "main [1, 2, 6]\n"
     ]
    }
   ],
   "source": [
    "l = [1, 2, 3]\n",
    "\n",
    "\n",
    "def foo():  \n",
    "    print(\"inside foo\", l)\n",
    "    l[-1] = 6\n",
    "\n",
    "\n",
    "foo()\n",
    "print(\"main\", l)"
   ]
  }
 ],
 "metadata": {
  "kernelspec": {
   "display_name": "Python 3 (ipykernel)",
   "language": "python",
   "name": "python3"
  },
  "language_info": {
   "codemirror_mode": {
    "name": "ipython",
    "version": 3
   },
   "file_extension": ".py",
   "mimetype": "text/x-python",
   "name": "python",
   "nbconvert_exporter": "python",
   "pygments_lexer": "ipython3",
   "version": "3.10.4"
  }
 },
 "nbformat": 4,
 "nbformat_minor": 4
}
