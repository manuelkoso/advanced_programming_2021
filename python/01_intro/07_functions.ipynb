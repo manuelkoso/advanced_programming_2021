{
 "cells": [
  {
   "cell_type": "markdown",
   "metadata": {},
   "source": [
    "## Functions\n",
    "```python\n",
    "def function_name(arg1, arg2, arg3):\n",
    "    '''Documentation\n",
    "    eventually, on multiple\n",
    "    lines\n",
    "    aka docstring\n",
    "    '''\n",
    "    body\n",
    "```\n",
    "* `return` statement is optional\n",
    "* `return` you can return multiple elements returning a `tuple`\n",
    "```python\n",
    "    return a,b,c\n",
    "```"
   ]
  },
  {
   "cell_type": "code",
   "execution_count": null,
   "metadata": {},
   "outputs": [],
   "source": [
    "def hello(name):\n",
    "    \"\"\"prints 'hello' followed by the arg name\"\"\"\n",
    "    print(\"hello\", name)\n",
    "\n",
    "\n",
    "hello(\"alberto\")\n",
    "hello(name=\"alberto\")"
   ]
  },
  {
   "cell_type": "code",
   "execution_count": null,
   "metadata": {},
   "outputs": [],
   "source": [
    "def interactive_hello():\n",
    "    \"\"\"prompt the user for a name, then prints \"hello\" followed by the name\"\"\"\n",
    "    name = str(input(\"write your name\")) # cast not necessary, input returns a string\n",
    "    print(\"hello\", name)\n",
    "\n",
    "\n",
    "interactive_hello()"
   ]
  },
  {
   "cell_type": "code",
   "execution_count": null,
   "metadata": {},
   "outputs": [],
   "source": [
    "def multi_hello(*names): # construct a container to saved many arguments\n",
    "    \"\"\"for each name in names print \"hello\" name\"\"\"\n",
    "    for i in names:\n",
    "        print(\"hello\", i)\n",
    "\n",
    "\n",
    "multi_hello(\"alberto\", \"luigi\", \"stefania\")"
   ]
  },
  {
   "cell_type": "code",
   "execution_count": null,
   "metadata": {},
   "outputs": [],
   "source": [
    "def dwim():\n",
    "    \"\"\"super complicated algorithm which returns value and error estimation\"\"\"\n",
    "    value = 42\n",
    "    error = 1e-9\n",
    "    return value, error\n",
    "\n",
    "\n",
    "v, e = dwim() # tuple unpacking\n",
    "print(v, e)"
   ]
  },
  {
   "cell_type": "markdown",
   "metadata": {},
   "source": [
    "### Keyword and positional arguments\n",
    "\n",
    "* keyword arguments are passed as a dictionary {key:value,...}\n",
    "* non-keyword arguments are called positional arguments\n",
    "* `*expression` must evaluate an iterable"
   ]
  },
  {
   "cell_type": "code",
   "execution_count": null,
   "metadata": {},
   "outputs": [],
   "source": [
    "def foo(*positional, **keywords):\n",
    "    print(\"Positional:\", positional, end=\"\\t\")\n",
    "    print(\"Keywords:\", keywords\n",
    "          \n",
    "# postional args are stored in a tuble\n",
    "# keyword args are stored in a dictionary          "
   ]
  },
  {
   "cell_type": "code",
   "execution_count": null,
   "metadata": {},
   "outputs": [],
   "source": [
    "foo(\"1st\", \"2nd\", \"3rd\")"
   ]
  },
  {
   "cell_type": "code",
   "execution_count": null,
   "metadata": {},
   "outputs": [],
   "source": [
    "foo(par1=1, par2=\"2nd\", par3=\"3rd\")"
   ]
  },
  {
   "cell_type": "code",
   "execution_count": null,
   "metadata": {},
   "outputs": [],
   "source": [
    "foo(\"1st\", pippo=\"2nd\", par3=\"3rd\")"
   ]
  },
  {
   "cell_type": "code",
   "execution_count": null,
   "metadata": {},
   "outputs": [],
   "source": [
    "foo(par2=2, '1st')"
   ]
  },
  {
   "cell_type": "markdown",
   "metadata": {},
   "source": [
    "With star notation we can put the arguments whereever we want (strange behavour of python)"
   ]
  },
  {
   "cell_type": "code",
   "execution_count": null,
   "metadata": {},
   "outputs": [],
   "source": [
    "foo(par1=\"1st_key\", *(\"tuple\", \"unpacking\"), par2=\"2nd_key\")"
   ]
  },
  {
   "cell_type": "code",
   "execution_count": null,
   "metadata": {},
   "outputs": [],
   "source": [
    "foo(par1=\"1st_key\", *[\"1st_pos\"], par2=\"2nd_key\", *[\"2st_pos\", \"3rd_pos\"])"
   ]
  },
  {
   "cell_type": "markdown",
   "metadata": {},
   "source": [
    "We can achive the function overloading by using * or ** arguments. We leave the fixed aruments and then we add the * or ** arguments. "
   ]
  },
  {
   "cell_type": "markdown",
   "metadata": {},
   "source": [
    "### Anonymous functions, aka lambda functions\n",
    "```python\n",
    "lambda arg1,arg2,arg3: expression\n",
    "```\n",
    "\n",
    "- any number of args, but only 1 expression that **returns** a value\n",
    "- also zero arguments..."
   ]
  },
  {
   "cell_type": "code",
   "execution_count": 2,
   "metadata": {},
   "outputs": [
    {
     "name": "stdout",
     "output_type": "stream",
     "text": [
      "{'c': 100, 'a': 10, 'z': 50}\n"
     ]
    }
   ],
   "source": [
    "d = {\"c\": 100, \"a\": 10, \"z\": 50}\n",
    "print(d)"
   ]
  },
  {
   "cell_type": "code",
   "execution_count": null,
   "metadata": {},
   "outputs": [],
   "source": [
    "for k, v in d.items():\n",
    "    print(k, v)"
   ]
  },
  {
   "cell_type": "code",
   "execution_count": null,
   "metadata": {},
   "outputs": [],
   "source": [
    "sorted(d.items())"
   ]
  },
  {
   "cell_type": "code",
   "execution_count": null,
   "metadata": {},
   "outputs": [],
   "source": [
    "for k, v in sorted(d.items(), reverse=False):\n",
    "    print(k, v)"
   ]
  },
  {
   "cell_type": "code",
   "execution_count": null,
   "metadata": {},
   "outputs": [],
   "source": [
    "for v in sorted(d.values()):\n",
    "    print(v)"
   ]
  },
  {
   "cell_type": "code",
   "execution_count": 7,
   "metadata": {},
   "outputs": [
    {
     "data": {
      "text/plain": [
       "[('a', 10), ('z', 50), ('c', 100)]"
      ]
     },
     "execution_count": 7,
     "metadata": {},
     "output_type": "execute_result"
    }
   ],
   "source": [
    "sorted(d.items(), key=lambda x: x[1])"
   ]
  },
  {
   "cell_type": "code",
   "execution_count": null,
   "metadata": {},
   "outputs": [],
   "source": [
    "def get_second_element(x):\n",
    "    return x[1]\n",
    "\n",
    "\n",
    "sorted(d.items(), key=get_second_element)"
   ]
  },
  {
   "cell_type": "code",
   "execution_count": null,
   "metadata": {},
   "outputs": [],
   "source": [
    "sorted??"
   ]
  },
  {
   "cell_type": "code",
   "execution_count": null,
   "metadata": {},
   "outputs": [],
   "source": [
    "for k, v in sorted(d.items(), key=lambda x: x[1]):\n",
    "    print(k, v)"
   ]
  },
  {
   "cell_type": "markdown",
   "metadata": {},
   "source": [
    "###  functions are first-class objects\n",
    "First-class object is a program entity that can be:\n",
    "- created at runtime\n",
    "- assigned to a variable or element in a data structure\n",
    "- passed as an argument to a function\n",
    "- returned as the result of a function"
   ]
  },
  {
   "cell_type": "code",
   "execution_count": 8,
   "metadata": {},
   "outputs": [
    {
     "name": "stdout",
     "output_type": "stream",
     "text": [
      "<class 'function'>\n",
      "hello\n"
     ]
    }
   ],
   "source": [
    "# in python everything is an object\n",
    "def hello():\n",
    "    print(\"hello\")\n",
    "\n",
    "\n",
    "print(type(hello))\n",
    "\n",
    "a = hello\n",
    "a()\n",
    "hello = 3\n",
    "hello() # error"
   ]
  },
  {
   "cell_type": "markdown",
   "metadata": {},
   "source": [
    "### functions can use recursion"
   ]
  },
  {
   "cell_type": "code",
   "execution_count": null,
   "metadata": {},
   "outputs": [],
   "source": [
    "def factorial2(n):\n",
    "    ret = 1\n",
    "    while n > 0:\n",
    "        ret *= n\n",
    "        n -= 1\n",
    "    return ret"
   ]
  },
  {
   "cell_type": "code",
   "execution_count": null,
   "metadata": {},
   "outputs": [],
   "source": [
    "def factorial(n):\n",
    "    if n < 2:\n",
    "        return 1\n",
    "    return n * factorial(n - 1)"
   ]
  },
  {
   "cell_type": "code",
   "execution_count": null,
   "metadata": {},
   "outputs": [],
   "source": [
    "factorial(6)"
   ]
  },
  {
   "cell_type": "code",
   "execution_count": null,
   "metadata": {},
   "outputs": [],
   "source": [
    "def factorial(n):\n",
    "    return 1 if n < 2 else n * factorial(n - 1)\n",
    "\n",
    "\n",
    "factorial(77)"
   ]
  },
  {
   "cell_type": "markdown",
   "metadata": {},
   "source": [
    "### args name in functions can be used as `keyword`"
   ]
  },
  {
   "cell_type": "code",
   "execution_count": null,
   "metadata": {},
   "outputs": [],
   "source": [
    "eval(\"print('hello')\")"
   ]
  },
  {
   "cell_type": "code",
   "execution_count": null,
   "metadata": {},
   "outputs": [],
   "source": [
    "def abc(a, b, c):\n",
    "    for i in (\"a\", \"b\", \"c\"):\n",
    "        print(i, \"got\", eval(i))\n",
    "\n",
    "\n",
    "abc(\"to_a\", \"to_b\", \"to_c\")"
   ]
  },
  {
   "cell_type": "code",
   "execution_count": null,
   "metadata": {},
   "outputs": [],
   "source": [
    "abc(b=\"to_b\", c=\"to_c\", a=\"to_a\") # the order is no important because are saved in a dictionary"
   ]
  },
  {
   "cell_type": "markdown",
   "metadata": {},
   "source": [
    "###  if you want keyord-only arguments, put a `*` in the signature"
   ]
  },
  {
   "cell_type": "code",
   "execution_count": null,
   "metadata": {},
   "outputs": [],
   "source": [
    "def abc_keyword_only(*, a, b, c):\n",
    "    for i in (\"a\", \"b\", \"c\"):\n",
    "        print(i, \"got\", eval(i))\n",
    "\n",
    "\n",
    "# abc_keyword_only('to_a', 'to_b', 'to_c') # error\n",
    "abc_keyword_only(b=\"to_b\", c=\"to_c\", a=\"to_a\")"
   ]
  },
  {
   "cell_type": "markdown",
   "metadata": {},
   "source": [
    "### define which args cannot be used as keyword args"
   ]
  },
  {
   "cell_type": "code",
   "execution_count": null,
   "metadata": {},
   "outputs": [],
   "source": [
    "def mix(obj, /, key1, *, key2):\n",
    "    \"\"\"obj only positional\n",
    "       key1 both poistional and keyword arg\n",
    "       key2 only keyword\"\"\"\n",
    "    print(f\"{obj=}, {key1=}, {key2=}\")\n",
    "\n",
    "\n",
    "mix(\"first\", key2=lambda: 3 / 4, key1=int)\n",
    "\n",
    "mix(\"first\", int, key2=lambda: 3 / 4)"
   ]
  },
  {
   "cell_type": "code",
   "execution_count": null,
   "metadata": {},
   "outputs": [],
   "source": [
    "mix(obj=\"first\", key1=int, key2=lambda: 3 / 4) # error"
   ]
  },
  {
   "cell_type": "markdown",
   "metadata": {},
   "source": [
    "### default values"
   ]
  },
  {
   "cell_type": "code",
   "execution_count": null,
   "metadata": {},
   "outputs": [],
   "source": [
    "def abc_with_default(a=\"default_a\", b=\"default_b\", c=\"default_c\"):\n",
    "    abc(a, b, c)\n",
    "\n",
    "\n",
    "abc_with_default(b=\"to_b\")"
   ]
  },
  {
   "cell_type": "markdown",
   "metadata": {},
   "source": [
    "### documentation"
   ]
  },
  {
   "cell_type": "code",
   "execution_count": null,
   "metadata": {},
   "outputs": [],
   "source": [
    "def foo():\n",
    "    \"\"\"\n",
    "    string documenting foo(). \n",
    "    accessible via help(foo)\n",
    "    \"\"\"\n",
    "    pass\n",
    "\n",
    "\n",
    "help(foo)"
   ]
  },
  {
   "cell_type": "markdown",
   "metadata": {},
   "source": [
    "### function annotations"
   ]
  },
  {
   "cell_type": "code",
   "execution_count": 10,
   "metadata": {},
   "outputs": [],
   "source": [
    "def complicated_function(text: str, max_len: \"int>0\" = 80) -> str: # is not type checking \n",
    "    \"\"\"documentation for complicated_function\"\"\"\n",
    "    pass"
   ]
  },
  {
   "cell_type": "code",
   "execution_count": 11,
   "metadata": {},
   "outputs": [
    {
     "name": "stdout",
     "output_type": "stream",
     "text": [
      "Help on function complicated_function in module __main__:\n",
      "\n",
      "complicated_function(text: str, max_len: 'int>0' = 80) -> str\n",
      "    documentation for complicated_function\n",
      "\n"
     ]
    }
   ],
   "source": [
    "help(complicated_function)"
   ]
  },
  {
   "cell_type": "markdown",
   "metadata": {},
   "source": [
    "###  much more"
   ]
  },
  {
   "cell_type": "code",
   "execution_count": 12,
   "metadata": {},
   "outputs": [
    {
     "name": "stdout",
     "output_type": "stream",
     "text": [
      "__annotations__ is {'text': <class 'str'>, 'max_len': 'int>0', 'return': <class 'str'>}\n",
      "__builtins__ is {'__name__': 'builtins', '__doc__': \"Built-in functions, exceptions, and other objects.\\n\\nNoteworthy: None is the `nil' object; Ellipsis represents `...' in slices.\", '__package__': '', '__loader__': <class '_frozen_importlib.BuiltinImporter'>, '__spec__': ModuleSpec(name='builtins', loader=<class '_frozen_importlib.BuiltinImporter'>, origin='built-in'), '__build_class__': <built-in function __build_class__>, '__import__': <built-in function __import__>, 'abs': <built-in function abs>, 'all': <built-in function all>, 'any': <built-in function any>, 'ascii': <built-in function ascii>, 'bin': <built-in function bin>, 'breakpoint': <built-in function breakpoint>, 'callable': <built-in function callable>, 'chr': <built-in function chr>, 'compile': <built-in function compile>, 'delattr': <built-in function delattr>, 'dir': <built-in function dir>, 'divmod': <built-in function divmod>, 'eval': <built-in function eval>, 'exec': <built-in function exec>, 'format': <built-in function format>, 'getattr': <built-in function getattr>, 'globals': <built-in function globals>, 'hasattr': <built-in function hasattr>, 'hash': <built-in function hash>, 'hex': <built-in function hex>, 'id': <built-in function id>, 'input': <bound method Kernel.raw_input of <ipykernel.ipkernel.IPythonKernel object at 0x7fa319e3f610>>, 'isinstance': <built-in function isinstance>, 'issubclass': <built-in function issubclass>, 'iter': <built-in function iter>, 'aiter': <built-in function aiter>, 'len': <built-in function len>, 'locals': <built-in function locals>, 'max': <built-in function max>, 'min': <built-in function min>, 'next': <built-in function next>, 'anext': <built-in function anext>, 'oct': <built-in function oct>, 'ord': <built-in function ord>, 'pow': <built-in function pow>, 'print': <built-in function print>, 'repr': <built-in function repr>, 'round': <built-in function round>, 'setattr': <built-in function setattr>, 'sorted': <built-in function sorted>, 'sum': <built-in function sum>, 'vars': <built-in function vars>, 'None': None, 'Ellipsis': Ellipsis, 'NotImplemented': NotImplemented, 'False': False, 'True': True, 'bool': <class 'bool'>, 'memoryview': <class 'memoryview'>, 'bytearray': <class 'bytearray'>, 'bytes': <class 'bytes'>, 'classmethod': <class 'classmethod'>, 'complex': <class 'complex'>, 'dict': <class 'dict'>, 'enumerate': <class 'enumerate'>, 'filter': <class 'filter'>, 'float': <class 'float'>, 'frozenset': <class 'frozenset'>, 'property': <class 'property'>, 'int': <class 'int'>, 'list': <class 'list'>, 'map': <class 'map'>, 'object': <class 'object'>, 'range': <class 'range'>, 'reversed': <class 'reversed'>, 'set': <class 'set'>, 'slice': <class 'slice'>, 'staticmethod': <class 'staticmethod'>, 'str': <class 'str'>, 'super': <class 'super'>, 'tuple': <class 'tuple'>, 'type': <class 'type'>, 'zip': <class 'zip'>, '__debug__': True, 'BaseException': <class 'BaseException'>, 'Exception': <class 'Exception'>, 'TypeError': <class 'TypeError'>, 'StopAsyncIteration': <class 'StopAsyncIteration'>, 'StopIteration': <class 'StopIteration'>, 'GeneratorExit': <class 'GeneratorExit'>, 'SystemExit': <class 'SystemExit'>, 'KeyboardInterrupt': <class 'KeyboardInterrupt'>, 'ImportError': <class 'ImportError'>, 'ModuleNotFoundError': <class 'ModuleNotFoundError'>, 'OSError': <class 'OSError'>, 'EnvironmentError': <class 'OSError'>, 'IOError': <class 'OSError'>, 'EOFError': <class 'EOFError'>, 'RuntimeError': <class 'RuntimeError'>, 'RecursionError': <class 'RecursionError'>, 'NotImplementedError': <class 'NotImplementedError'>, 'NameError': <class 'NameError'>, 'UnboundLocalError': <class 'UnboundLocalError'>, 'AttributeError': <class 'AttributeError'>, 'SyntaxError': <class 'SyntaxError'>, 'IndentationError': <class 'IndentationError'>, 'TabError': <class 'TabError'>, 'LookupError': <class 'LookupError'>, 'IndexError': <class 'IndexError'>, 'KeyError': <class 'KeyError'>, 'ValueError': <class 'ValueError'>, 'UnicodeError': <class 'UnicodeError'>, 'UnicodeEncodeError': <class 'UnicodeEncodeError'>, 'UnicodeDecodeError': <class 'UnicodeDecodeError'>, 'UnicodeTranslateError': <class 'UnicodeTranslateError'>, 'AssertionError': <class 'AssertionError'>, 'ArithmeticError': <class 'ArithmeticError'>, 'FloatingPointError': <class 'FloatingPointError'>, 'OverflowError': <class 'OverflowError'>, 'ZeroDivisionError': <class 'ZeroDivisionError'>, 'SystemError': <class 'SystemError'>, 'ReferenceError': <class 'ReferenceError'>, 'MemoryError': <class 'MemoryError'>, 'BufferError': <class 'BufferError'>, 'Warning': <class 'Warning'>, 'UserWarning': <class 'UserWarning'>, 'EncodingWarning': <class 'EncodingWarning'>, 'DeprecationWarning': <class 'DeprecationWarning'>, 'PendingDeprecationWarning': <class 'PendingDeprecationWarning'>, 'SyntaxWarning': <class 'SyntaxWarning'>, 'RuntimeWarning': <class 'RuntimeWarning'>, 'FutureWarning': <class 'FutureWarning'>, 'ImportWarning': <class 'ImportWarning'>, 'UnicodeWarning': <class 'UnicodeWarning'>, 'BytesWarning': <class 'BytesWarning'>, 'ResourceWarning': <class 'ResourceWarning'>, 'ConnectionError': <class 'ConnectionError'>, 'BlockingIOError': <class 'BlockingIOError'>, 'BrokenPipeError': <class 'BrokenPipeError'>, 'ChildProcessError': <class 'ChildProcessError'>, 'ConnectionAbortedError': <class 'ConnectionAbortedError'>, 'ConnectionRefusedError': <class 'ConnectionRefusedError'>, 'ConnectionResetError': <class 'ConnectionResetError'>, 'FileExistsError': <class 'FileExistsError'>, 'FileNotFoundError': <class 'FileNotFoundError'>, 'IsADirectoryError': <class 'IsADirectoryError'>, 'NotADirectoryError': <class 'NotADirectoryError'>, 'InterruptedError': <class 'InterruptedError'>, 'PermissionError': <class 'PermissionError'>, 'ProcessLookupError': <class 'ProcessLookupError'>, 'TimeoutError': <class 'TimeoutError'>, 'open': <built-in function open>, 'copyright': Copyright (c) 2001-2022 Python Software Foundation.\n",
      "All Rights Reserved.\n",
      "\n",
      "Copyright (c) 2000 BeOpen.com.\n",
      "All Rights Reserved.\n",
      "\n",
      "Copyright (c) 1995-2001 Corporation for National Research Initiatives.\n",
      "All Rights Reserved.\n",
      "\n",
      "Copyright (c) 1991-1995 Stichting Mathematisch Centrum, Amsterdam.\n",
      "All Rights Reserved., 'credits':     Thanks to CWI, CNRI, BeOpen.com, Zope Corporation and a cast of thousands\n",
      "    for supporting Python development.  See www.python.org for more information., 'license': Type license() to see the full license text, 'help': Type help() for interactive help, or help(object) for help about object., 'execfile': <function execfile at 0x7fa31a913370>, 'runfile': <function runfile at 0x7fa31a83ac20>, '__IPYTHON__': True, 'display': <function display at 0x7fa31b8768c0>, 'get_ipython': <bound method InteractiveShell.get_ipython of <ipykernel.zmqshell.ZMQInteractiveShell object at 0x7fa319e880a0>>}\n",
      "__call__ is <method-wrapper '__call__' of function object at 0x7fa2f6dd4670>\n",
      "__class__ is <class 'function'>\n",
      "__closure__ is None\n",
      "__code__ is <code object complicated_function at 0x7fa3183bb100, file \"/tmp/ipykernel_8390/3123818729.py\", line 1>\n",
      "__defaults__ is (80,)\n",
      "__delattr__ is <method-wrapper '__delattr__' of function object at 0x7fa2f6dd4670>\n",
      "__dict__ is {}\n",
      "__dir__ is <built-in method __dir__ of function object at 0x7fa2f6dd4670>\n",
      "__doc__ is documentation for complicated_function\n",
      "__eq__ is <method-wrapper '__eq__' of function object at 0x7fa2f6dd4670>\n",
      "__format__ is <built-in method __format__ of function object at 0x7fa2f6dd4670>\n",
      "__ge__ is <method-wrapper '__ge__' of function object at 0x7fa2f6dd4670>\n",
      "__get__ is <method-wrapper '__get__' of function object at 0x7fa2f6dd4670>\n",
      "__getattribute__ is <method-wrapper '__getattribute__' of function object at 0x7fa2f6dd4670>\n",
      "__globals__ is {'__name__': '__main__', '__doc__': 'Automatically created module for IPython interactive environment', '__package__': None, '__loader__': None, '__spec__': None, '__builtin__': <module 'builtins' (built-in)>, '__builtins__': <module 'builtins' (built-in)>, '_ih': ['', 'Whit star notation we can put the arguments whereever we want (strange behavour of python)', 'd = {\"c\": 100, \"a\": 10, \"z\": 50}\\nprint(d)', 'sorted(d.items(), key=lambda x: x[1])', 'sorted(d.items(), key=lambda x: x[0])', 'sorted(d.items(), key=lambda x: x[1])', 'sorted(d.items(), key=lambda x: x[2])', 'sorted(d.items(), key=lambda x: x[1])', 'def hello():\\n    print(\"hello\")\\n\\n\\nprint(type(hello))\\n\\na = hello\\na()', 'help(complicated_function)', 'def complicated_function(text: str, max_len: \"int>0\" = 80) -> str: # is not type checking \\n    \"\"\"documentation for complicated_function\"\"\"\\n    pass', 'help(complicated_function)', 'for i in dir(complicated_function):\\n    print(i, \"is\", eval(\"complicated_function.\" + i))'], '_oh': {3: [('a', 10), ('z', 50), ('c', 100)], 4: [('a', 10), ('c', 100), ('z', 50)], 5: [('a', 10), ('z', 50), ('c', 100)], 7: [('a', 10), ('z', 50), ('c', 100)]}, '_dh': [PosixPath('/home/koso/Development/advanced_programming_2021/python/01_intro')], 'In': ['', 'Whit star notation we can put the arguments whereever we want (strange behavour of python)', 'd = {\"c\": 100, \"a\": 10, \"z\": 50}\\nprint(d)', 'sorted(d.items(), key=lambda x: x[1])', 'sorted(d.items(), key=lambda x: x[0])', 'sorted(d.items(), key=lambda x: x[1])', 'sorted(d.items(), key=lambda x: x[2])', 'sorted(d.items(), key=lambda x: x[1])', 'def hello():\\n    print(\"hello\")\\n\\n\\nprint(type(hello))\\n\\na = hello\\na()', 'help(complicated_function)', 'def complicated_function(text: str, max_len: \"int>0\" = 80) -> str: # is not type checking \\n    \"\"\"documentation for complicated_function\"\"\"\\n    pass', 'help(complicated_function)', 'for i in dir(complicated_function):\\n    print(i, \"is\", eval(\"complicated_function.\" + i))'], 'Out': {3: [('a', 10), ('z', 50), ('c', 100)], 4: [('a', 10), ('c', 100), ('z', 50)], 5: [('a', 10), ('z', 50), ('c', 100)], 7: [('a', 10), ('z', 50), ('c', 100)]}, 'get_ipython': <bound method InteractiveShell.get_ipython of <ipykernel.zmqshell.ZMQInteractiveShell object at 0x7fa319e880a0>>, 'exit': <IPython.core.autocall.ZMQExitAutocall object at 0x7fa319e898a0>, 'quit': <IPython.core.autocall.ZMQExitAutocall object at 0x7fa319e898a0>, '_': [('a', 10), ('z', 50), ('c', 100)], '__': [('a', 10), ('z', 50), ('c', 100)], '___': [('a', 10), ('c', 100), ('z', 50)], '_i': 'help(complicated_function)', '_ii': 'def complicated_function(text: str, max_len: \"int>0\" = 80) -> str: # is not type checking \\n    \"\"\"documentation for complicated_function\"\"\"\\n    pass', '_iii': 'help(complicated_function)', '_i1': 'Whit star notation we can put the arguments whereever we want (strange behavour of python)', '_i2': 'd = {\"c\": 100, \"a\": 10, \"z\": 50}\\nprint(d)', 'd': {'c': 100, 'a': 10, 'z': 50}, '_i3': 'sorted(d.items(), key=lambda x: x[1])', '_3': [('a', 10), ('z', 50), ('c', 100)], '_i4': 'sorted(d.items(), key=lambda x: x[0])', '_4': [('a', 10), ('c', 100), ('z', 50)], '_i5': 'sorted(d.items(), key=lambda x: x[1])', '_5': [('a', 10), ('z', 50), ('c', 100)], '_i6': 'sorted(d.items(), key=lambda x: x[2])', '_i7': 'sorted(d.items(), key=lambda x: x[1])', '_7': [('a', 10), ('z', 50), ('c', 100)], '_i8': 'def hello():\\n    print(\"hello\")\\n\\n\\nprint(type(hello))\\n\\na = hello\\na()', 'hello': <function hello at 0x7fa2f6dd5000>, 'a': <function hello at 0x7fa2f6dd5000>, '_i9': 'help(complicated_function)', '_i10': 'def complicated_function(text: str, max_len: \"int>0\" = 80) -> str: # is not type checking \\n    \"\"\"documentation for complicated_function\"\"\"\\n    pass', 'complicated_function': <function complicated_function at 0x7fa2f6dd4670>, '_i11': 'help(complicated_function)', '_i12': 'for i in dir(complicated_function):\\n    print(i, \"is\", eval(\"complicated_function.\" + i))', 'i': '__globals__'}\n",
      "__gt__ is <method-wrapper '__gt__' of function object at 0x7fa2f6dd4670>\n",
      "__hash__ is <method-wrapper '__hash__' of function object at 0x7fa2f6dd4670>\n",
      "__init__ is <method-wrapper '__init__' of function object at 0x7fa2f6dd4670>\n",
      "__init_subclass__ is <built-in method __init_subclass__ of type object at 0x55f489f2cd20>\n",
      "__kwdefaults__ is None\n",
      "__le__ is <method-wrapper '__le__' of function object at 0x7fa2f6dd4670>\n",
      "__lt__ is <method-wrapper '__lt__' of function object at 0x7fa2f6dd4670>\n",
      "__module__ is __main__\n",
      "__name__ is complicated_function\n",
      "__ne__ is <method-wrapper '__ne__' of function object at 0x7fa2f6dd4670>\n",
      "__new__ is <built-in method __new__ of type object at 0x55f489f2cd20>\n",
      "__qualname__ is complicated_function\n",
      "__reduce__ is <built-in method __reduce__ of function object at 0x7fa2f6dd4670>\n",
      "__reduce_ex__ is <built-in method __reduce_ex__ of function object at 0x7fa2f6dd4670>\n",
      "__repr__ is <method-wrapper '__repr__' of function object at 0x7fa2f6dd4670>\n",
      "__setattr__ is <method-wrapper '__setattr__' of function object at 0x7fa2f6dd4670>\n",
      "__sizeof__ is <built-in method __sizeof__ of function object at 0x7fa2f6dd4670>\n",
      "__str__ is <method-wrapper '__str__' of function object at 0x7fa2f6dd4670>\n",
      "__subclasshook__ is <built-in method __subclasshook__ of type object at 0x55f489f2cd20>\n"
     ]
    }
   ],
   "source": [
    "for i in dir(complicated_function):\n",
    "    print(i, \"is\", eval(\"complicated_function.\" + i))"
   ]
  },
  {
   "cell_type": "code",
   "execution_count": null,
   "metadata": {},
   "outputs": [],
   "source": []
  }
 ],
 "metadata": {
  "kernelspec": {
   "display_name": "Python 3 (ipykernel)",
   "language": "python",
   "name": "python3"
  },
  "language_info": {
   "codemirror_mode": {
    "name": "ipython",
    "version": 3
   },
   "file_extension": ".py",
   "mimetype": "text/x-python",
   "name": "python",
   "nbconvert_exporter": "python",
   "pygments_lexer": "ipython3",
   "version": "3.10.4"
  }
 },
 "nbformat": 4,
 "nbformat_minor": 4
}
